{
 "cells": [
  {
   "cell_type": "markdown",
   "metadata": {},
   "source": [
    "# 🚀 DFL Basic Simulation on Google Colab\n",
    "\n",
    "This notebook runs the Decentralized Federated Learning experiments on Google Colab with GPU acceleration.\n",
    "\n",
    "**Steps:**\n",
    "1. Upload project files\n",
    "2. Install dependencies\n",
    "3. Run experiments\n",
    "4. Download results"
   ]
  },
  {
   "cell_type": "markdown",
   "metadata": {},
   "source": [
    "## 📤 Step 1: Upload Project Files\n",
    "\n",
    "**Option A: Upload ZIP file**\n",
    "- Create ZIP: `zip -r dfl_basic_simulation.zip dfl_basic_simulation -x \"*/venv/*\" -x \"*/__pycache__/*\" -x \"*/data/*\" -x \"*/results/*\"`\n",
    "- Run cell below to upload\n",
    "\n",
    "**Option B: Clone from GitHub** (uncomment the git clone cell)\n",
    "\n",
    "**Option C: Load from Google Drive** (uncomment the Drive mount cell)"
   ]
  },
  {
   "cell_type": "code",
   "execution_count": null,
   "metadata": {},
   "outputs": [],
   "source": [
    "# Option A: Upload ZIP file\n",
    "from google.colab import files\n",
    "import zipfile\n",
    "import os\n",
    "\n",
    "print(\"📤 Upload your dfl_basic_simulation.zip file...\")\n",
    "uploaded = files.upload()\n",
    "\n",
    "# Unzip\n",
    "zip_name = list(uploaded.keys())[0]\n",
    "with zipfile.ZipFile(zip_name, 'r') as zip_ref:\n",
    "    zip_ref.extractall('/content')\n",
    "\n",
    "print(\"✅ Extracted!\")\n",
    "print(\"📁 Files:\", os.listdir('/content/dfl_basic_simulation'))"
   ]
  },
  {
   "cell_type": "code",
   "execution_count": null,
   "metadata": {},
   "outputs": [],
   "source": [
    "# Option B: Clone from GitHub (uncomment to use)\n",
    "# !git clone https://github.com/YOUR_USERNAME/dfl_basic_simulation.git\n",
    "# %cd dfl_basic_simulation"
   ]
  },
  {
   "cell_type": "code",
   "execution_count": null,
   "metadata": {},
   "outputs": [],
   "source": [
    "# Option C: Load from Google Drive (uncomment to use)\n",
    "# from google.colab import drive\n",
    "# import zipfile\n",
    "\n",
    "# # Mount Drive\n",
    "# drive.mount('/content/drive')\n",
    "\n",
    "# # Unzip from Drive\n",
    "# zip_path = '/content/drive/MyDrive/dfl_basic_simulation.zip'\n",
    "# with zipfile.ZipFile(zip_path, 'r') as zip_ref:\n",
    "#     zip_ref.extractall('/content')\n",
    "# print(\"✅ Extracted from Drive!\")"
   ]
  },
  {
   "cell_type": "markdown",
   "metadata": {},
   "source": [
    "## 🔧 Step 2: Install Dependencies"
   ]
  },
  {
   "cell_type": "code",
   "execution_count": null,
   "metadata": {},
   "outputs": [],
   "source": [
    "!pip install -q torch torchvision matplotlib numpy pandas pyyaml\n",
    "print(\"✅ Dependencies installed!\")"
   ]
  },
  {
   "cell_type": "markdown",
   "metadata": {},
   "source": [
    "## 🖥️ Step 3: Check GPU Availability"
   ]
  },
  {
   "cell_type": "code",
   "execution_count": null,
   "metadata": {},
   "outputs": [],
   "source": [
    "import torch\n",
    "\n",
    "print(\"=\" * 60)\n",
    "print(\"🚀 GPU Information\")\n",
    "print(\"=\" * 60)\n",
    "\n",
    "if torch.cuda.is_available():\n",
    "    print(f\"✅ CUDA Available: YES\")\n",
    "    print(f\"   GPU: {torch.cuda.get_device_name(0)}\")\n",
    "    print(f\"   CUDA Version: {torch.version.cuda}\")\n",
    "    print(f\"   GPU Memory: {torch.cuda.get_device_properties(0).total_memory / 1e9:.2f} GB\")\n",
    "else:\n",
    "    print(\"⚠️  CUDA Available: NO (using CPU - will be slower)\")\n",
    "    print(\"   To enable GPU: Runtime > Change runtime type > Hardware accelerator > GPU\")\n",
    "\n",
    "print(\"=\" * 60)"
   ]
  },
  {
   "cell_type": "markdown",
   "metadata": {},
   "source": [
    "## 🏃 Step 4: Run Experiments"
   ]
  },
  {
   "cell_type": "code",
   "execution_count": null,
   "metadata": {},
   "outputs": [],
   "source": [
    "# Change to project directory\n",
    "%cd /content/dfl_basic_simulation\n",
    "!pwd\n",
    "!ls experiments/"
   ]
  },
  {
   "cell_type": "markdown",
   "metadata": {},
   "source": [
    "### 🐕 Experiment 1: Single Class DOG Training"
   ]
  },
  {
   "cell_type": "code",
   "execution_count": null,
   "metadata": {},
   "outputs": [],
   "source": [
    "!python experiments/single_class_dog_demo.py"
   ]
  },
  {
   "cell_type": "markdown",
   "metadata": {},
   "source": [
    "### 🌐 Experiment 2: Centralized Federated Learning"
   ]
  },
  {
   "cell_type": "code",
   "execution_count": null,
   "metadata": {},
   "outputs": [],
   "source": [
    "!python experiments/dog_federated_improvement.py"
   ]
  },
  {
   "cell_type": "markdown",
   "metadata": {},
   "source": [
    "### 🔗 Experiment 3: Decentralized P2P Federated Learning"
   ]
  },
  {
   "cell_type": "code",
   "execution_count": null,
   "metadata": {},
   "outputs": [],
   "source": [
    "!python experiments/dog_federated_p2p.py"
   ]
  },
  {
   "cell_type": "markdown",
   "metadata": {},
   "source": [
    "### 🎯 Experiment 4: Class-Based Demo (5 nodes)"
   ]
  },
  {
   "cell_type": "code",
   "execution_count": null,
   "metadata": {},
   "outputs": [],
   "source": [
    "!python experiments/class_based_demo.py"
   ]
  },
  {
   "cell_type": "markdown",
   "metadata": {},
   "source": [
    "## 📊 Step 5: View Results"
   ]
  },
  {
   "cell_type": "code",
   "execution_count": null,
   "metadata": {},
   "outputs": [],
   "source": [
    "# List generated files\n",
    "!ls -lh results/\n",
    "!ls -lh results/plots/ 2>/dev/null || echo \"No plots generated yet\"\n",
    "!ls -lh results/pretrained_models/ 2>/dev/null || echo \"No models yet\""
   ]
  },
  {
   "cell_type": "code",
   "execution_count": null,
   "metadata": {},
   "outputs": [],
   "source": [
    "# Display plots (if any)\n",
    "import matplotlib.pyplot as plt\n",
    "from IPython.display import Image\n",
    "import os\n",
    "\n",
    "plot_dir = '/content/dfl_basic_simulation/results/plots'\n",
    "if os.path.exists(plot_dir):\n",
    "    for plot_file in os.listdir(plot_dir):\n",
    "        if plot_file.endswith('.png'):\n",
    "            print(f\"\\n📊 {plot_file}\")\n",
    "            display(Image(filename=os.path.join(plot_dir, plot_file)))\n",
    "else:\n",
    "    print(\"No plots found\")"
   ]
  },
  {
   "cell_type": "markdown",
   "metadata": {},
   "source": [
    "## 💾 Step 6: Download Results"
   ]
  },
  {
   "cell_type": "code",
   "execution_count": null,
   "metadata": {},
   "outputs": [],
   "source": [
    "from google.colab import files\n",
    "import shutil\n",
    "\n",
    "# Zip all results\n",
    "shutil.make_archive('/content/dfl_results', 'zip', '/content/dfl_basic_simulation/results')\n",
    "\n",
    "# Download\n",
    "print(\"📥 Downloading results...\")\n",
    "files.download('/content/dfl_results.zip')\n",
    "print(\"✅ Download complete!\")"
   ]
  },
  {
   "cell_type": "markdown",
   "metadata": {},
   "source": [
    "## 🧹 Step 7: Clean Up (Optional)"
   ]
  },
  {
   "cell_type": "code",
   "execution_count": null,
   "metadata": {},
   "outputs": [],
   "source": [
    "# Remove downloaded data to free space\n",
    "!rm -rf /content/dfl_basic_simulation/data\n",
    "print(\"✅ CIFAR-10 data removed (will re-download if needed)\")"
   ]
  },
  {
   "cell_type": "markdown",
   "metadata": {},
   "source": [
    "## 📝 Notes\n",
    "\n",
    "**GPU Settings:**\n",
    "- Go to: `Runtime > Change runtime type > Hardware accelerator > GPU`\n",
    "- Recommended: T4 GPU (free tier)\n",
    "\n",
    "**Estimated Run Times (with GPU):**\n",
    "- Single class demo: ~5 minutes\n",
    "- Centralized FL (100 rounds): ~30-40 minutes\n",
    "- Decentralized P2P (100 rounds): ~40-50 minutes\n",
    "- Class-based demo: ~20-30 minutes\n",
    "\n",
    "**Tips:**\n",
    "- Colab sessions timeout after 12 hours\n",
    "- Checkpoints are saved every 5 rounds\n",
    "- Can resume training if disconnected\n",
    "- Download results frequently to avoid loss"
   ]
  }
 ],
 "metadata": {
  "accelerator": "GPU",
  "colab": {
   "gpuType": "T4",
   "provenance": []
  },
  "kernelspec": {
   "display_name": "Python 3",
   "name": "python3"
  },
  "language_info": {
   "name": "python"
  }
 },
 "nbformat": 4,
 "nbformat_minor": 0
}
